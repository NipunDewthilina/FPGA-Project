{
 "metadata": {
  "language_info": {
   "codemirror_mode": {
    "name": "ipython",
    "version": 3
   },
   "file_extension": ".py",
   "mimetype": "text/x-python",
   "name": "python",
   "nbconvert_exporter": "python",
   "pygments_lexer": "ipython3",
   "version": "3.7.7"
  },
  "orig_nbformat": 4,
  "kernelspec": {
   "name": "python3",
   "display_name": "Python 3.7.7 64-bit ('base': conda)"
  },
  "interpreter": {
   "hash": "044798d73bf965f887b248df984b3d7f89a69ced2a45d6c70da00b55799639bf"
  }
 },
 "nbformat": 4,
 "nbformat_minor": 2,
 "cells": [
  {
   "cell_type": "code",
   "execution_count": 45,
   "metadata": {},
   "outputs": [],
   "source": [
    "N = 4 #2"
   ]
  },
  {
   "cell_type": "code",
   "execution_count": 36,
   "metadata": {},
   "outputs": [],
   "source": [
    "   #ram[4] =  12'd1;\n",
    "   #ram[5] =  12'd2;\n",
    "   #ram[68]  =12'd3;\n",
    "   #ram[69] = 12'd4;\n",
    "   #ram[258]= 12'd5;\n",
    "   #ram[259]= 12'd6;\n",
    "   #ram[322]= 12'd7;\n",
    "   #ram[323]= 12'd8;"
   ]
  },
  {
   "cell_type": "code",
   "execution_count": 44,
   "metadata": {},
   "outputs": [],
   "source": [
    "# a = [[1, 2], [3, 4]]\n",
    "# b = [[5, 6], [7, 8]]\n",
    "\n",
    "a = [[1, 2, 1, 2], [1, 2, 1, 2], [1, 2, 1, 2], [1, 2, 1, 2]]\n",
    "b = [[1, 2, 1, 2], [1, 2, 1, 2], [1, 2, 1, 2], [1, 2, 1, 2]]"
   ]
  },
  {
   "cell_type": "code",
   "execution_count": 46,
   "metadata": {},
   "outputs": [],
   "source": [
    "mem = [0] * 4096"
   ]
  },
  {
   "cell_type": "code",
   "execution_count": 47,
   "metadata": {},
   "outputs": [],
   "source": [
    "ii = 0\n",
    "jj = N\n",
    "kk = 2 * N"
   ]
  },
  {
   "cell_type": "code",
   "execution_count": 48,
   "metadata": {},
   "outputs": [
    {
     "output_type": "stream",
     "name": "stdout",
     "text": [
      "8 1\n9 2\n10 1\n11 2\n72 1\n73 2\n74 1\n75 2\n136 1\n137 2\n138 1\n139 2\n200 1\n201 2\n202 1\n203 2\n"
     ]
    }
   ],
   "source": [
    "#ik\n",
    "for i in range(ii, jj):\n",
    "    for k in range(kk, 3 * N):\n",
    "\n",
    "        loc1 = bin(i)[2:]\n",
    "        sixloc1 = (6 - len(loc1)) * '0' + loc1\n",
    "\n",
    "        loc2 = bin(k)[2:]\n",
    "        sixloc2 = (6 - len(loc2)) * '0' + loc2\n",
    "\n",
    "        twelveloc = sixloc1 + sixloc2\n",
    "\n",
    "        decimal_loc = int(twelveloc, 2)\n",
    "\n",
    "        print(decimal_loc, a[i][k % N])\n",
    "        mem[decimal_loc] = a[i][k % N]"
   ]
  },
  {
   "cell_type": "code",
   "execution_count": 49,
   "metadata": {},
   "outputs": [
    {
     "output_type": "stream",
     "name": "stdout",
     "text": [
      "516 1\n517 2\n518 1\n519 2\n580 1\n581 2\n582 1\n583 2\n644 1\n645 2\n646 1\n647 2\n708 1\n709 2\n710 1\n711 2\n"
     ]
    }
   ],
   "source": [
    "#ik\n",
    "for k in range(kk, 3 * N):\n",
    "    for j in range(jj, kk):\n",
    "\n",
    "        loc1 = bin(k)[2:]\n",
    "        sixloc1 = (6 - len(loc1)) * '0' + loc1\n",
    "\n",
    "        loc2 = bin(j)[2:]\n",
    "        sixloc2 = (6 - len(loc2)) * '0' + loc2\n",
    "\n",
    "        twelveloc = sixloc1 + sixloc2\n",
    "\n",
    "        decimal_loc = int(twelveloc, 2)\n",
    "\n",
    "        print(decimal_loc, b[k % N][j % N])\n",
    "        mem[decimal_loc] = b[k % N][j % N]"
   ]
  },
  {
   "cell_type": "code",
   "execution_count": 50,
   "metadata": {},
   "outputs": [
    {
     "output_type": "stream",
     "name": "stdout",
     "text": [
      "0 0 0 0 0 0 0 0 0 0 0 0 0 0\n"
     ]
    }
   ],
   "source": [
    "print(mem[0], mem[2500], mem[4], mem[5], mem[68], mem[69], mem[258], mem[259], mem[322], mem[323], mem[2345], mem[21], mem[32], mem[450])"
   ]
  },
  {
   "cell_type": "code",
   "execution_count": 51,
   "metadata": {},
   "outputs": [],
   "source": [
    "with open('mat44.txt', 'w') as file:\n",
    "    for i in mem:\n",
    "        file.write(str(i)+'\\n')\n",
    "        # print(i)\n",
    "        # print(str(i)+'\\n')"
   ]
  },
  {
   "cell_type": "code",
   "execution_count": null,
   "metadata": {},
   "outputs": [],
   "source": []
  }
 ]
}